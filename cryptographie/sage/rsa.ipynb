{
 "cells": [
  {
   "cell_type": "code",
   "execution_count": null,
   "metadata": {},
   "outputs": [],
   "source": [
    "p=random_prime(2^32)\n",
    "print(\"p=\",p)\n",
    "q=random_prime(2^32)\n",
    "print(\"q=\",q)\n",
    "N=p*q\n",
    "phi = (p-1)*(q-1)\n",
    "print(\"N = \",N)\n",
    "print(\"phi(N) = \",phi)"
   ]
  }
 ],
 "metadata": {
  "language_info": {
   "name": "python"
  }
 },
 "nbformat": 4,
 "nbformat_minor": 2
}
