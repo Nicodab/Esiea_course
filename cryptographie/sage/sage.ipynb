{
 "cells": [
  {
   "cell_type": "code",
   "execution_count": 74,
   "metadata": {},
   "outputs": [
    {
     "name": "stdout",
     "output_type": "stream",
     "text": [
      "Le nombre 1048576 est-il premier ? False\n",
      "Temps d'exécution : 5.793571472167969e-05 secondes\n"
     ]
    }
   ],
   "source": [
    "import time\n",
    "\n",
    "def is_prime(n):\n",
    "    return n.is_prime()\n",
    "\n",
    "number = 2**20\n",
    "\n",
    "start_time = time.time()\n",
    "result = is_prime(number)\n",
    "end_time = time.time()\n",
    "\n",
    "print(f\"Le nombre {number} est-il premier ? {result}\")\n",
    "print(f\"Temps d'exécution : {end_time - start_time} secondes\")\n",
    "\n",
    "print()"
   ]
  },
  {
   "cell_type": "code",
   "execution_count": 1,
   "metadata": {},
   "outputs": [
    {
     "name": "stdout",
     "output_type": "stream",
     "text": [
      "Le premier nombre non premier avec 923923 entre 1 et 923923 est : 7\n"
     ]
    }
   ],
   "source": [
    "def gcd(a, b):\n",
    "    while b:\n",
    "        a, b = b, a % b\n",
    "    return a\n",
    "\n",
    "def find_non_prime(k, n, modulus):\n",
    "    for i in range(k, n + 1):\n",
    "        if gcd(i, modulus) != 1:\n",
    "            return i\n",
    "    return None\n",
    "\n",
    "# Exemple d'utilisation\n",
    "modulus = 923923\n",
    "k_value = 1\n",
    "n_value = 923923\n",
    "\n",
    "non_prime_number = find_non_prime(k_value, n_value, modulus)\n",
    "\n",
    "if non_prime_number is not None:\n",
    "    print(f\"Le premier nombre non premier avec {modulus} entre {k_value} et {n_value} est : {non_prime_number}\")\n",
    "else:\n",
    "    print(f\"Tous les nombres dans l'intervalle sont premiers avec {modulus}.\")\n"
   ]
  },
  {
   "cell_type": "code",
   "execution_count": null,
   "metadata": {},
   "outputs": [],
   "source": [
    "euler_phi(923923)"
   ]
  }
 ],
 "metadata": {
  "kernelspec": {
   "display_name": "SageMath 9.5",
   "language": "sage",
   "name": "sagemath"
  },
  "language_info": {
   "codemirror_mode": {
    "name": "ipython",
    "version": 3
   },
   "file_extension": ".py",
   "mimetype": "text/x-python",
   "name": "python",
   "nbconvert_exporter": "python",
   "pygments_lexer": "ipython3",
   "version": "3.11.4"
  }
 },
 "nbformat": 4,
 "nbformat_minor": 2
}
